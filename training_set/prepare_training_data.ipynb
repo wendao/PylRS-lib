{
 "cells": [
  {
   "cell_type": "code",
   "execution_count": 1,
   "metadata": {},
   "outputs": [],
   "source": [
    "import pandas as pd\n",
    "import numpy as np\n",
    "from collections import defaultdict"
   ]
  },
  {
   "cell_type": "code",
   "execution_count": 2,
   "metadata": {},
   "outputs": [
    {
     "name": "stdout",
     "output_type": "stream",
     "text": [
      "{'UA': 3.283999999999992, 'UB': -4.994000000000028, 'UC': 8.788999999999987, 'UD': 0.7150000000000318, 'UE': -10.514999999999986, 'UF': 3.05600000000004, 'UG': 3.3980000000000246, 'UH': 3.466000000000008, 'UX-ax': 0.32600000000002183, 'UX-ep': -1.6299999999999955}\n"
     ]
    }
   ],
   "source": [
    "#load reference energy\n",
    "ref0 = -900.0\n",
    "ref_dict = {}\n",
    "lines = open(\"funclib_median.txt\", 'r').readlines()\n",
    "for l in lines:\n",
    "    es = l.strip().split()\n",
    "    ref_dict[es[0]] = float(es[1])-ref0\n",
    "print(ref_dict)"
   ]
  },
  {
   "cell_type": "code",
   "execution_count": 3,
   "metadata": {},
   "outputs": [
    {
     "name": "stdout",
     "output_type": "stream",
     "text": [
      "defaultdict(<class 'list'>, {'A': ['A10', 'B1', 'B2', 'F11', 'F12', 'G1', 'G2', 'G3', 'G4', 'H1', 'H2', 'H3', 'I10', 'J1', 'J2', 'J3', 'K1', 'K3', 'L10', 'M3', 'N2', 'N5', 'P1', 'P2', 'P3', 'Q5', 'Q10'], 'B': ['C7', 'C12', 'H1', 'H2', 'H3', 'I10', 'N2'], 'C': ['H1', 'H2', 'H3'], 'D': ['C4', 'H3'], 'E': ['C4', 'C7', 'M10', 'Q1', 'Q2', 'Q3'], 'F': ['C4', 'D10', 'H1', 'H3', 'M3'], 'G': ['B1', 'C5', 'C7', 'C9', 'I1', 'I3', 'J1', 'M10'], 'H': ['B1', 'E10', 'H4', 'J1', 'L7']})\n",
      "63\n"
     ]
    }
   ],
   "source": [
    "#load positive data id\n",
    "pos_ids = defaultdict(list)\n",
    "lines = open(\"positive_data.txt\", 'r').readlines()\n",
    "for l in lines:\n",
    "    es = l.strip().split()\n",
    "    pos_ids[es[0]].append(es[1])\n",
    "print(pos_ids)\n",
    "print(np.sum([len(l) for l in pos_ids.values()]))"
   ]
  },
  {
   "cell_type": "code",
   "execution_count": 4,
   "metadata": {},
   "outputs": [
    {
     "name": "stdout",
     "output_type": "stream",
     "text": [
      "{'ALYLNCYVW': 'A1', 'ALYANSFVW': 'A6', 'ALALNCFVW': 'A3', 'ALMGNAYVW': 'A4', 'ALYLNCFVW': 'A5', 'ALYLNCWVW': 'A7', 'ALAMNAYVW': 'A8', 'SLCMNCYVW': 'A9', 'TLYLVWFLW': 'G4', 'ALALNCYVW': 'A11', 'ALMGNAFVW': 'A12', 'AFYMGGFVW': 'B1', 'AIFYGFFVW': 'B2', 'TLYLNCFVW': 'B3', 'TLYLNCFLW': 'B4', 'ALYANAFVW': 'B5', 'TLYLVWFLE': 'B6', 'TLYLVWFLG': 'B7', 'TLYLVWFLI': 'B8', 'TLYLVWFLN': 'B9', 'TLYLVWFLM': 'B10', 'TLYLVWFLK': 'B11', 'TLYLVWFLD': 'B12', 'TLYLVWFLP': 'C1', 'TLYLVWFLQ': 'C2', 'TLYLVWFLA': 'D3', 'TLYLAAFLL': 'C4', 'TLYLVAFLA': 'C9', 'TLYLAAFLC': 'C6', 'TLYLAAFLS': 'C7', 'TLYLVVFLV': 'C8', 'TLYLVCFLA': 'C10', 'TLYLVFFLA': 'C11', 'TLYLVLFLA': 'C12', 'TLYLVTFLA': 'D1', 'TLYLVVFLA': 'D2', 'TLYLVWFLC': 'D5', 'TLYLVFFLC': 'D6', 'TLYLVLFLC': 'D7', 'TLYLVTFLC': 'D8', 'TLYLVVFLC': 'D9', 'TLYLVCFLC': 'D10', 'TLYLVAFLL': 'D11', 'TLYLVLFLL': 'D12', 'TLYLVTFLL': 'E1', 'TLYLVWFLL': 'E3', 'TLYLVAFLS': 'E4', 'TLYLVCFLS': 'E5', 'TLYLVFFLS': 'E6', 'TLYLVLFLS': 'E7', 'TLYLVTFLS': 'E8', 'TLYLVVFLS': 'E9', 'TLYLVWFLS': 'E10', 'TLYLVAFLT': 'E11', 'TLYLVTFLT': 'E12', 'TLYLVLFLT': 'F1', 'TLYLVFFLT': 'F2', 'TLYLVVFLT': 'F3', 'TLYLVWFLT': 'F4', 'TLYLVAFLV': 'F5', 'TLYLVCFLV': 'F6', 'TLYLVFFLV': 'F7', 'TLYLVLFLV': 'F8', 'TLYLVWFLV': 'F9', 'TLYLVAFLW': 'F10', 'TLYLVCFLW': 'F11', 'TLYLVFFLW': 'F12', 'TLYLVCFLT': 'G1', 'TLYLVTFLW': 'G2', 'TLYLVVFLW': 'G3', 'TLLLAAFLL': 'G5', 'TLALAAFLL': 'G6', 'TLLLVAFLS': 'G7', 'TLTLVAFLS': 'G8', 'TLFLVAFLS': 'G9', 'TLVLVAFLS': 'G10', 'TLLLVTFLW': 'G11', 'TLALVTFLW': 'G12', 'ALYLGGFVW': 'H4', 'ALGLNCFVW': 'H5', 'ALYLQAYMW': 'H10', 'ALYLQTYMW': 'H12', 'ALCLQCFCW': 'N5', 'ALYANSFCW': 'N6', 'ALCLNSFCW': 'N7', 'ALYAQCFCW': 'N8', 'ACYVQCFCW': 'N9', 'ALGLNSFVW': 'N10', 'ALGLNFFVW': 'N11', 'ALGLNAFVW': 'N12', 'ALYANFYVW': 'Q10', 'AIFANFYVW': 'P3', 'ALYVNFYVW': 'P4', 'ALFANTYVW': 'P5', 'ALYLNTFVW': 'P6', 'ALYANIYVW': 'P7', 'ALYANSYVW': 'P8', 'ALYANCYVW': 'P9', 'ALYANVYVW': 'P10', 'ALYANVFVW': 'P11', 'ALLANSFVW': 'Q1', 'ALYANTFVW': 'Q2', 'ALYLNSFVW': 'Q3', 'ALYANCFVW': 'Q4', 'ALYLNFFVW': 'Q6', 'ALYLNFWVW': 'Q7', 'ALYLNTYVW': 'Q8', 'ALFANTFVW': 'Q9', 'ALYANFFVW': 'Q11'}\n"
     ]
    }
   ],
   "source": [
    "#map tag to id\n",
    "t2i = {}\n",
    "lines = open(\"tag2id_mutations.txt\", 'r').readlines()\n",
    "for l in lines:\n",
    "    es = l.strip().split()\n",
    "    t2i[es[1]] = es[0]\n",
    "print(t2i)"
   ]
  },
  {
   "cell_type": "code",
   "execution_count": 5,
   "metadata": {},
   "outputs": [],
   "source": [
    "#load energy data\n",
    "all_data = pd.DataFrame()\n",
    "for i in [\"A\",\"B\",\"C\",\"D\",\"E\",\"F\",\"G\",\"H\"]:\n",
    "    df = pd.read_csv(\"U\"+i+\"_sc.txt\", sep=\" \", header=None)\n",
    "    #delete all zero col\n",
    "    df = df.loc[:,~(df==0).all(axis=0)]\n",
    "    #add UAA specific ref energy\n",
    "    df['ref'] = ref_dict[\"U\"+i]\n",
    "    df['UAA'] = i\n",
    "    df['label'] = [t2i[t] in pos_ids[i] for t in df[0]]\n",
    "    df['id'] = [t2i[t] for t in df[0]]\n",
    "    #print(df)\n",
    "    all_data = pd.concat([all_data, df], axis=0, ignore_index=True)"
   ]
  },
  {
   "cell_type": "code",
   "execution_count": 6,
   "metadata": {},
   "outputs": [
    {
     "data": {
      "text/html": [
       "<div>\n",
       "<style scoped>\n",
       "    .dataframe tbody tr th:only-of-type {\n",
       "        vertical-align: middle;\n",
       "    }\n",
       "\n",
       "    .dataframe tbody tr th {\n",
       "        vertical-align: top;\n",
       "    }\n",
       "\n",
       "    .dataframe thead th {\n",
       "        text-align: right;\n",
       "    }\n",
       "</style>\n",
       "<table border=\"1\" class=\"dataframe\">\n",
       "  <thead>\n",
       "    <tr style=\"text-align: right;\">\n",
       "      <th></th>\n",
       "      <th>tag</th>\n",
       "      <th>1</th>\n",
       "      <th>2</th>\n",
       "      <th>3</th>\n",
       "      <th>4</th>\n",
       "      <th>5</th>\n",
       "      <th>6</th>\n",
       "      <th>7</th>\n",
       "      <th>8</th>\n",
       "      <th>12</th>\n",
       "      <th>13</th>\n",
       "      <th>22</th>\n",
       "      <th>ref</th>\n",
       "      <th>UAA</th>\n",
       "      <th>label</th>\n",
       "      <th>id</th>\n",
       "    </tr>\n",
       "  </thead>\n",
       "  <tbody>\n",
       "    <tr>\n",
       "      <th>0</th>\n",
       "      <td>ACYVQCFCW</td>\n",
       "      <td>-24.0051</td>\n",
       "      <td>-23.8776</td>\n",
       "      <td>2.02105</td>\n",
       "      <td>17.5356</td>\n",
       "      <td>0.05247</td>\n",
       "      <td>3.95328</td>\n",
       "      <td>-1.44645</td>\n",
       "      <td>-4.13194</td>\n",
       "      <td>-1.42433</td>\n",
       "      <td>-0.67891</td>\n",
       "      <td>-7.99680</td>\n",
       "      <td>3.284</td>\n",
       "      <td>A</td>\n",
       "      <td>False</td>\n",
       "      <td>N9</td>\n",
       "    </tr>\n",
       "    <tr>\n",
       "      <th>1</th>\n",
       "      <td>AFYMGGFVW</td>\n",
       "      <td>-26.8855</td>\n",
       "      <td>-23.5745</td>\n",
       "      <td>1.47423</td>\n",
       "      <td>16.0292</td>\n",
       "      <td>0.05279</td>\n",
       "      <td>3.94058</td>\n",
       "      <td>-1.02180</td>\n",
       "      <td>-4.37312</td>\n",
       "      <td>-1.34091</td>\n",
       "      <td>-0.63584</td>\n",
       "      <td>-9.44936</td>\n",
       "      <td>3.284</td>\n",
       "      <td>A</td>\n",
       "      <td>True</td>\n",
       "      <td>B1</td>\n",
       "    </tr>\n",
       "    <tr>\n",
       "      <th>2</th>\n",
       "      <td>AIFANFYVW</td>\n",
       "      <td>-25.4982</td>\n",
       "      <td>-23.3516</td>\n",
       "      <td>2.57217</td>\n",
       "      <td>15.3742</td>\n",
       "      <td>0.05136</td>\n",
       "      <td>3.82375</td>\n",
       "      <td>-0.55634</td>\n",
       "      <td>-4.72345</td>\n",
       "      <td>-1.41379</td>\n",
       "      <td>-0.65033</td>\n",
       "      <td>-8.87399</td>\n",
       "      <td>3.284</td>\n",
       "      <td>A</td>\n",
       "      <td>True</td>\n",
       "      <td>P3</td>\n",
       "    </tr>\n",
       "    <tr>\n",
       "      <th>3</th>\n",
       "      <td>AIFYGFFVW</td>\n",
       "      <td>-25.4553</td>\n",
       "      <td>-22.3403</td>\n",
       "      <td>1.82180</td>\n",
       "      <td>15.3238</td>\n",
       "      <td>0.05133</td>\n",
       "      <td>3.75967</td>\n",
       "      <td>-0.70848</td>\n",
       "      <td>-4.72947</td>\n",
       "      <td>-1.40936</td>\n",
       "      <td>-0.68574</td>\n",
       "      <td>-8.91666</td>\n",
       "      <td>3.284</td>\n",
       "      <td>A</td>\n",
       "      <td>True</td>\n",
       "      <td>B2</td>\n",
       "    </tr>\n",
       "    <tr>\n",
       "      <th>4</th>\n",
       "      <td>ALALNCFVW</td>\n",
       "      <td>-25.1744</td>\n",
       "      <td>-22.3038</td>\n",
       "      <td>1.75465</td>\n",
       "      <td>15.1148</td>\n",
       "      <td>0.05192</td>\n",
       "      <td>3.87224</td>\n",
       "      <td>-0.82898</td>\n",
       "      <td>-4.27721</td>\n",
       "      <td>-1.40292</td>\n",
       "      <td>-0.64382</td>\n",
       "      <td>-8.66306</td>\n",
       "      <td>3.284</td>\n",
       "      <td>A</td>\n",
       "      <td>False</td>\n",
       "      <td>A3</td>\n",
       "    </tr>\n",
       "    <tr>\n",
       "      <th>...</th>\n",
       "      <td>...</td>\n",
       "      <td>...</td>\n",
       "      <td>...</td>\n",
       "      <td>...</td>\n",
       "      <td>...</td>\n",
       "      <td>...</td>\n",
       "      <td>...</td>\n",
       "      <td>...</td>\n",
       "      <td>...</td>\n",
       "      <td>...</td>\n",
       "      <td>...</td>\n",
       "      <td>...</td>\n",
       "      <td>...</td>\n",
       "      <td>...</td>\n",
       "      <td>...</td>\n",
       "      <td>...</td>\n",
       "    </tr>\n",
       "    <tr>\n",
       "      <th>867</th>\n",
       "      <td>TLYLVWFLQ</td>\n",
       "      <td>-23.5938</td>\n",
       "      <td>-27.7221</td>\n",
       "      <td>4.91423</td>\n",
       "      <td>19.0956</td>\n",
       "      <td>0.07662</td>\n",
       "      <td>5.34519</td>\n",
       "      <td>-1.36020</td>\n",
       "      <td>-5.11745</td>\n",
       "      <td>-0.60892</td>\n",
       "      <td>-0.99807</td>\n",
       "      <td>-6.37507</td>\n",
       "      <td>3.466</td>\n",
       "      <td>H</td>\n",
       "      <td>False</td>\n",
       "      <td>C2</td>\n",
       "    </tr>\n",
       "    <tr>\n",
       "      <th>868</th>\n",
       "      <td>TLYLVWFLS</td>\n",
       "      <td>-20.8607</td>\n",
       "      <td>-26.2650</td>\n",
       "      <td>4.60498</td>\n",
       "      <td>18.3405</td>\n",
       "      <td>0.07660</td>\n",
       "      <td>5.40465</td>\n",
       "      <td>-0.93407</td>\n",
       "      <td>-4.41319</td>\n",
       "      <td>-0.48958</td>\n",
       "      <td>-1.27397</td>\n",
       "      <td>-4.94909</td>\n",
       "      <td>3.466</td>\n",
       "      <td>H</td>\n",
       "      <td>True</td>\n",
       "      <td>E10</td>\n",
       "    </tr>\n",
       "    <tr>\n",
       "      <th>869</th>\n",
       "      <td>TLYLVWFLT</td>\n",
       "      <td>-15.5414</td>\n",
       "      <td>-23.9837</td>\n",
       "      <td>4.87691</td>\n",
       "      <td>16.9269</td>\n",
       "      <td>0.07450</td>\n",
       "      <td>5.05972</td>\n",
       "      <td>-1.24448</td>\n",
       "      <td>-3.36936</td>\n",
       "      <td>-0.54651</td>\n",
       "      <td>-0.43044</td>\n",
       "      <td>-2.63648</td>\n",
       "      <td>3.466</td>\n",
       "      <td>H</td>\n",
       "      <td>False</td>\n",
       "      <td>F4</td>\n",
       "    </tr>\n",
       "    <tr>\n",
       "      <th>870</th>\n",
       "      <td>TLYLVWFLV</td>\n",
       "      <td>-25.9741</td>\n",
       "      <td>-26.8547</td>\n",
       "      <td>4.41757</td>\n",
       "      <td>17.2864</td>\n",
       "      <td>0.18990</td>\n",
       "      <td>5.51996</td>\n",
       "      <td>-1.08881</td>\n",
       "      <td>-4.38574</td>\n",
       "      <td>-0.75670</td>\n",
       "      <td>-1.60504</td>\n",
       "      <td>-7.27718</td>\n",
       "      <td>3.466</td>\n",
       "      <td>H</td>\n",
       "      <td>False</td>\n",
       "      <td>F9</td>\n",
       "    </tr>\n",
       "    <tr>\n",
       "      <th>871</th>\n",
       "      <td>TLYLVWFLW</td>\n",
       "      <td>-25.4502</td>\n",
       "      <td>-24.8378</td>\n",
       "      <td>3.14072</td>\n",
       "      <td>15.1750</td>\n",
       "      <td>0.08954</td>\n",
       "      <td>8.09416</td>\n",
       "      <td>-0.81603</td>\n",
       "      <td>-3.80702</td>\n",
       "      <td>-0.58113</td>\n",
       "      <td>-0.99877</td>\n",
       "      <td>-4.54140</td>\n",
       "      <td>3.466</td>\n",
       "      <td>H</td>\n",
       "      <td>False</td>\n",
       "      <td>G4</td>\n",
       "    </tr>\n",
       "  </tbody>\n",
       "</table>\n",
       "<p>872 rows × 16 columns</p>\n",
       "</div>"
      ],
      "text/plain": [
       "           tag        1        2        3        4        5        6        7  \\\n",
       "0    ACYVQCFCW -24.0051 -23.8776  2.02105  17.5356  0.05247  3.95328 -1.44645   \n",
       "1    AFYMGGFVW -26.8855 -23.5745  1.47423  16.0292  0.05279  3.94058 -1.02180   \n",
       "2    AIFANFYVW -25.4982 -23.3516  2.57217  15.3742  0.05136  3.82375 -0.55634   \n",
       "3    AIFYGFFVW -25.4553 -22.3403  1.82180  15.3238  0.05133  3.75967 -0.70848   \n",
       "4    ALALNCFVW -25.1744 -22.3038  1.75465  15.1148  0.05192  3.87224 -0.82898   \n",
       "..         ...      ...      ...      ...      ...      ...      ...      ...   \n",
       "867  TLYLVWFLQ -23.5938 -27.7221  4.91423  19.0956  0.07662  5.34519 -1.36020   \n",
       "868  TLYLVWFLS -20.8607 -26.2650  4.60498  18.3405  0.07660  5.40465 -0.93407   \n",
       "869  TLYLVWFLT -15.5414 -23.9837  4.87691  16.9269  0.07450  5.05972 -1.24448   \n",
       "870  TLYLVWFLV -25.9741 -26.8547  4.41757  17.2864  0.18990  5.51996 -1.08881   \n",
       "871  TLYLVWFLW -25.4502 -24.8378  3.14072  15.1750  0.08954  8.09416 -0.81603   \n",
       "\n",
       "           8       12       13       22    ref UAA  label   id  \n",
       "0   -4.13194 -1.42433 -0.67891 -7.99680  3.284   A  False   N9  \n",
       "1   -4.37312 -1.34091 -0.63584 -9.44936  3.284   A   True   B1  \n",
       "2   -4.72345 -1.41379 -0.65033 -8.87399  3.284   A   True   P3  \n",
       "3   -4.72947 -1.40936 -0.68574 -8.91666  3.284   A   True   B2  \n",
       "4   -4.27721 -1.40292 -0.64382 -8.66306  3.284   A  False   A3  \n",
       "..       ...      ...      ...      ...    ...  ..    ...  ...  \n",
       "867 -5.11745 -0.60892 -0.99807 -6.37507  3.466   H  False   C2  \n",
       "868 -4.41319 -0.48958 -1.27397 -4.94909  3.466   H   True  E10  \n",
       "869 -3.36936 -0.54651 -0.43044 -2.63648  3.466   H  False   F4  \n",
       "870 -4.38574 -0.75670 -1.60504 -7.27718  3.466   H  False   F9  \n",
       "871 -3.80702 -0.58113 -0.99877 -4.54140  3.466   H  False   G4  \n",
       "\n",
       "[872 rows x 16 columns]"
      ]
     },
     "execution_count": 6,
     "metadata": {},
     "output_type": "execute_result"
    }
   ],
   "source": [
    "all_data = all_data.rename(columns={0:\"tag\"})\n",
    "all_data"
   ]
  },
  {
   "cell_type": "code",
   "execution_count": 7,
   "metadata": {},
   "outputs": [],
   "source": [
    "#load ESM-1v, ESM-1b\n",
    "df1v = pd.read_csv(\"../evotuning/mm_diskAB_1v_labeled.csv\")\n",
    "df1b = pd.read_csv(\"../evotuning/mm_diskAB_1b_labeled.csv\")"
   ]
  },
  {
   "cell_type": "code",
   "execution_count": 8,
   "metadata": {},
   "outputs": [],
   "source": [
    "all_data = pd.merge(all_data, df1v.loc[:, ['id','esm1v_t33_650M_UR90S_1']], how='left', on='id')\n",
    "all_data = pd.merge(all_data, df1v.loc[:, ['id','esm1v_t33_650M_UR90S_2']], how='left', on='id')\n",
    "all_data = pd.merge(all_data, df1v.loc[:, ['id','esm1v_t33_650M_UR90S_3']], how='left', on='id')\n",
    "all_data = pd.merge(all_data, df1v.loc[:, ['id','esm1v_t33_650M_UR90S_4']], how='left', on='id')\n",
    "all_data = pd.merge(all_data, df1v.loc[:, ['id','esm1v_t33_650M_UR90S_5']], how='left', on='id')\n",
    "all_data = pd.merge(all_data, df1b.loc[:, ['id','esm_msa1b_t12_100M_UR50S']], how='left', on='id')"
   ]
  },
  {
   "cell_type": "code",
   "execution_count": 9,
   "metadata": {},
   "outputs": [],
   "source": [
    "raw_data = all_data.copy()"
   ]
  },
  {
   "cell_type": "code",
   "execution_count": 10,
   "metadata": {},
   "outputs": [],
   "source": [
    "#extract X\n",
    "col = raw_data.columns.values.tolist()\n",
    "col.remove('tag')\n",
    "col.remove('UAA')\n",
    "col.remove('label')\n",
    "col.remove('id')"
   ]
  },
  {
   "cell_type": "code",
   "execution_count": 11,
   "metadata": {},
   "outputs": [],
   "source": [
    "import numpy as np\n",
    "X = np.array(raw_data[col])\n",
    "y = np.array(raw_data['label'])"
   ]
  },
  {
   "cell_type": "code",
   "execution_count": 12,
   "metadata": {},
   "outputs": [
    {
     "name": "stdout",
     "output_type": "stream",
     "text": [
      "(872, 18) 27\n"
     ]
    }
   ],
   "source": [
    "print(X.shape, np.sum(y))"
   ]
  },
  {
   "cell_type": "code",
   "execution_count": 35,
   "metadata": {},
   "outputs": [],
   "source": [
    "import numpy as np\n",
    "import matplotlib.pyplot as plt\n",
    "from matplotlib.colors import ListedColormap\n",
    "from sklearn.model_selection import train_test_split\n",
    "from sklearn.preprocessing import StandardScaler\n",
    "from sklearn.datasets import make_moons, make_circles, make_classification\n",
    "from sklearn.neural_network import MLPClassifier\n",
    "from sklearn.neighbors import KNeighborsClassifier\n",
    "from sklearn.svm import SVC\n",
    "from sklearn.gaussian_process import GaussianProcessClassifier\n",
    "from sklearn.gaussian_process.kernels import RBF\n",
    "from sklearn.tree import DecisionTreeClassifier\n",
    "from sklearn.ensemble import RandomForestClassifier, AdaBoostClassifier\n",
    "from sklearn.naive_bayes import GaussianNB\n",
    "from sklearn.discriminant_analysis import QuadraticDiscriminantAnalysis\n",
    "from sklearn.metrics import f1_score"
   ]
  },
  {
   "cell_type": "code",
   "execution_count": 33,
   "metadata": {},
   "outputs": [],
   "source": [
    "h = 0.02  # step size in the mesh\n",
    "\n",
    "names = [\n",
    "    \"Nearest Neighbors\",\n",
    "    \"Linear SVM\",\n",
    "    \"RBF SVM\",\n",
    "    \"Gaussian Process\",\n",
    "    \"Decision Tree\",\n",
    "    \"Random Forest\",\n",
    "    \"Neural Net\",\n",
    "    \"AdaBoost\",\n",
    "    \"Naive Bayes\",\n",
    "    \"QDA\",\n",
    "]"
   ]
  },
  {
   "cell_type": "code",
   "execution_count": 15,
   "metadata": {},
   "outputs": [],
   "source": [
    "from collections import defaultdict"
   ]
  },
  {
   "cell_type": "code",
   "execution_count": 16,
   "metadata": {},
   "outputs": [
    {
     "name": "stderr",
     "output_type": "stream",
     "text": [
      "/home/wendao/.conda/envs/PyG/lib/python3.8/site-packages/sklearn/discriminant_analysis.py:715: UserWarning: Variables are collinear\n",
      "  warnings.warn(\"Variables are collinear\")\n",
      "/home/wendao/.conda/envs/PyG/lib/python3.8/site-packages/sklearn/discriminant_analysis.py:715: UserWarning: Variables are collinear\n",
      "  warnings.warn(\"Variables are collinear\")\n",
      "/home/wendao/.conda/envs/PyG/lib/python3.8/site-packages/sklearn/discriminant_analysis.py:715: UserWarning: Variables are collinear\n",
      "  warnings.warn(\"Variables are collinear\")\n",
      "/home/wendao/.conda/envs/PyG/lib/python3.8/site-packages/sklearn/discriminant_analysis.py:715: UserWarning: Variables are collinear\n",
      "  warnings.warn(\"Variables are collinear\")\n",
      "/home/wendao/.conda/envs/PyG/lib/python3.8/site-packages/sklearn/discriminant_analysis.py:715: UserWarning: Variables are collinear\n",
      "  warnings.warn(\"Variables are collinear\")\n",
      "/home/wendao/.conda/envs/PyG/lib/python3.8/site-packages/sklearn/discriminant_analysis.py:715: UserWarning: Variables are collinear\n",
      "  warnings.warn(\"Variables are collinear\")\n",
      "/home/wendao/.conda/envs/PyG/lib/python3.8/site-packages/sklearn/discriminant_analysis.py:715: UserWarning: Variables are collinear\n",
      "  warnings.warn(\"Variables are collinear\")\n",
      "/home/wendao/.conda/envs/PyG/lib/python3.8/site-packages/sklearn/discriminant_analysis.py:715: UserWarning: Variables are collinear\n",
      "  warnings.warn(\"Variables are collinear\")\n",
      "/home/wendao/.conda/envs/PyG/lib/python3.8/site-packages/sklearn/discriminant_analysis.py:715: UserWarning: Variables are collinear\n",
      "  warnings.warn(\"Variables are collinear\")\n",
      "/home/wendao/.conda/envs/PyG/lib/python3.8/site-packages/sklearn/discriminant_analysis.py:715: UserWarning: Variables are collinear\n",
      "  warnings.warn(\"Variables are collinear\")\n"
     ]
    }
   ],
   "source": [
    "X = StandardScaler().fit_transform(X)\n",
    "score_train = defaultdict(list)\n",
    "score_test = defaultdict(list)\n",
    "for r in range(10):\n",
    "    classifiers = [\n",
    "        KNeighborsClassifier(3),\n",
    "        SVC(kernel=\"linear\", C=0.025),\n",
    "        SVC(gamma=2, C=1),\n",
    "        GaussianProcessClassifier(1.0 * RBF(1.0)),\n",
    "        DecisionTreeClassifier(max_depth=5),\n",
    "        RandomForestClassifier(max_depth=5, n_estimators=10, max_features=1),\n",
    "        MLPClassifier(alpha=1, max_iter=1000),\n",
    "        AdaBoostClassifier(),\n",
    "        GaussianNB(),\n",
    "        QuadraticDiscriminantAnalysis(),\n",
    "        \n",
    "    ]\n",
    "    \n",
    "    X_train, X_test, y_train, y_test = train_test_split(X, y, test_size=0.33, random_state=42+r)\n",
    "    \n",
    "    for name, clf in zip(names, classifiers):\n",
    "        clf.fit(X_train, y_train)\n",
    "        y_pred_train = clf.predict(X_train)\n",
    "        y_pred_test = clf.predict(X_test)\n",
    "        f1_train = f1_score(y_train, y_pred_train)\n",
    "        f1_test = f1_score(y_test, y_pred_test)\n",
    "        score_train[name].append(f1_train)\n",
    "        score_test[name].append(f1_test)"
   ]
  },
  {
   "cell_type": "code",
   "execution_count": 17,
   "metadata": {},
   "outputs": [],
   "source": [
    "import matplotlib.pyplot as plt"
   ]
  },
  {
   "cell_type": "code",
   "execution_count": 18,
   "metadata": {},
   "outputs": [
    {
     "data": {
      "text/plain": [
       "(array([ 1,  2,  3,  4,  5,  6,  7,  8,  9, 10]),\n",
       " [Text(0, 0, ''),\n",
       "  Text(0, 0, ''),\n",
       "  Text(0, 0, ''),\n",
       "  Text(0, 0, ''),\n",
       "  Text(0, 0, ''),\n",
       "  Text(0, 0, ''),\n",
       "  Text(0, 0, ''),\n",
       "  Text(0, 0, ''),\n",
       "  Text(0, 0, ''),\n",
       "  Text(0, 0, '')])"
      ]
     },
     "execution_count": 18,
     "metadata": {},
     "output_type": "execute_result"
    },
    {
     "data": {
      "image/png": "[encoded data removed]",
      "text/plain": [
       "<Figure size 432x288 with 1 Axes>"
      ]
     },
     "metadata": {
      "needs_background": "light"
     },
     "output_type": "display_data"
    }
   ],
   "source": [
    "ax = plt.boxplot(score_train.values(), labels=names, showmeans=True)\n",
    "plt.xticks(rotation=45)"
   ]
  },
  {
   "cell_type": "code",
   "execution_count": 19,
   "metadata": {},
   "outputs": [
    {
     "data": {
      "text/plain": [
       "(array([ 1,  2,  3,  4,  5,  6,  7,  8,  9, 10]),\n",
       " [Text(0, 0, ''),\n",
       "  Text(0, 0, ''),\n",
       "  Text(0, 0, ''),\n",
       "  Text(0, 0, ''),\n",
       "  Text(0, 0, ''),\n",
       "  Text(0, 0, ''),\n",
       "  Text(0, 0, ''),\n",
       "  Text(0, 0, ''),\n",
       "  Text(0, 0, ''),\n",
       "  Text(0, 0, '')])"
      ]
     },
     "execution_count": 19,
     "metadata": {},
     "output_type": "execute_result"
    },
    {
     "data": {
      "image/png": "[encoded data removed]",
      "text/plain": [
       "<Figure size 432x288 with 1 Axes>"
      ]
     },
     "metadata": {
      "needs_background": "light"
     },
     "output_type": "display_data"
    }
   ],
   "source": [
    "ax = plt.boxplot(score_test.values(), labels=names, showmeans=True)\n",
    "plt.xticks(rotation=45)"
   ]
  },
  {
   "cell_type": "code",
   "execution_count": 20,
   "metadata": {},
   "outputs": [],
   "source": [
    "import os\n",
    "os.environ[\"CUDA_DEVICE_ORDER\"]=\"PCI_BUS_ID\"   # see issue #152\n",
    "os.environ[\"CUDA_VISIBLE_DEVICES\"]=\"1\""
   ]
  },
  {
   "cell_type": "code",
   "execution_count": 21,
   "metadata": {},
   "outputs": [],
   "source": [
    "#load eUnirep 1900/256/64 embedding\n",
    "from jax_unirep.evotuning_models import mlstm1900\n",
    "from jax_unirep.utils import load_params\n",
    "from jax_unirep import get_reps"
   ]
  },
  {
   "cell_type": "code",
   "execution_count": 22,
   "metadata": {},
   "outputs": [],
   "source": [
    "shift = 186\n",
    "\n",
    "i2p = {0:302, 1:305, 2:306, 3:309, 4:346, 5:348, 6:384, 7:401, 8:417}\n",
    "\n",
    "NAT = {\n",
    " 302 : \"A\",\n",
    " 305 : \"L\",\n",
    " 306 : \"Y\",\n",
    " 309 : \"L\",\n",
    " 346 : \"N\",\n",
    " 348 : \"C\",\n",
    " 384 : \"Y\",\n",
    " 401 : \"V\",\n",
    " 417 : \"W\",\n",
    "}\n",
    "\n",
    "def gen_seq(tag):\n",
    "    wt = \"SAPALTKSQTDRLEVLLNPKDEISLNSGKPFRELESELLSRRKKDLQQIYAEERENYLGKLEREITRFFVDRGFLEIKSPILIPLEYIERMGIDNDTELSKQIFRVDKNFCLRPMLAPNLYNYLRKLDRALPDPIKIFEIGPCYRKESDGKEHLEEFTMLNFCQMGSGCTRENLESIITDFLNHLGIDFKIVGDSCMVYGDTLDVMHGDLELSSAVVGPIPLDREWGIDKPWIGAGFGLERLLKVKHDFKNIKRAARSESYYNGISTNL\"\n",
    "    seq = wt\n",
    "    for i in range(9):\n",
    "        pos = i2p[i]\n",
    "        assert(wt[pos-shift]==NAT[pos])\n",
    "        seq = seq[:pos-shift] + tag[i] + seq[pos-shift+1:]\n",
    "    return seq"
   ]
  },
  {
   "cell_type": "code",
   "execution_count": 23,
   "metadata": {},
   "outputs": [],
   "source": [
    "sequences = [gen_seq(t) for t in t2i.keys()]\n",
    "s2t = {gen_seq(t):t for t in t2i.keys()}\n",
    "params = load_params(folderpath='../evotuning/unirep/weights/1900/')[1]\n",
    "h_avg, h_final, c_final= get_reps(sequences, params=params)"
   ]
  },
  {
   "cell_type": "code",
   "execution_count": 24,
   "metadata": {},
   "outputs": [],
   "source": [
    "df_evo = pd.DataFrame()\n",
    "for i, t in enumerate(t2i.keys()):\n",
    "    d = pd.Series([s2t[sequences[i]]]+[x for x in h_avg[i]])\n",
    "    assert(t == s2t[sequences[i]])\n",
    "    df_evo = pd.concat([df_evo, d.to_frame().T], axis=0, ignore_index=True)"
   ]
  },
  {
   "cell_type": "code",
   "execution_count": 25,
   "metadata": {
    "scrolled": true
   },
   "outputs": [],
   "source": [
    "convert = {i:\"e\"+str(i) for i in range(1901)}\n",
    "convert[0] = \"tag\"\n",
    "df_evo = df_evo.rename(columns=convert)"
   ]
  },
  {
   "cell_type": "code",
   "execution_count": 26,
   "metadata": {},
   "outputs": [],
   "source": [
    "raw_data = pd.merge(all_data, df_evo.loc[:, :], how='left', on='tag')"
   ]
  },
  {
   "cell_type": "code",
   "execution_count": 27,
   "metadata": {},
   "outputs": [],
   "source": [
    "#extract X\n",
    "col = raw_data.columns.values.tolist()\n",
    "col.remove('tag')\n",
    "col.remove('UAA')\n",
    "col.remove('label')\n",
    "col.remove('id')"
   ]
  },
  {
   "cell_type": "code",
   "execution_count": 28,
   "metadata": {},
   "outputs": [],
   "source": [
    "import numpy as np\n",
    "X = np.array(raw_data[col])\n",
    "y = np.array(raw_data['label'])"
   ]
  },
  {
   "cell_type": "code",
   "execution_count": 29,
   "metadata": {},
   "outputs": [
    {
     "name": "stdout",
     "output_type": "stream",
     "text": [
      "(872, 1918) 27\n"
     ]
    }
   ],
   "source": [
    "print(X.shape, np.sum(y))"
   ]
  },
  {
   "cell_type": "code",
   "execution_count": 30,
   "metadata": {},
   "outputs": [
    {
     "name": "stderr",
     "output_type": "stream",
     "text": [
      "/home/wendao/.conda/envs/PyG/lib/python3.8/site-packages/sklearn/discriminant_analysis.py:715: UserWarning: Variables are collinear\n",
      "  warnings.warn(\"Variables are collinear\")\n",
      "/home/wendao/.conda/envs/PyG/lib/python3.8/site-packages/sklearn/discriminant_analysis.py:715: UserWarning: Variables are collinear\n",
      "  warnings.warn(\"Variables are collinear\")\n",
      "/home/wendao/.conda/envs/PyG/lib/python3.8/site-packages/sklearn/discriminant_analysis.py:715: UserWarning: Variables are collinear\n",
      "  warnings.warn(\"Variables are collinear\")\n",
      "/home/wendao/.conda/envs/PyG/lib/python3.8/site-packages/sklearn/discriminant_analysis.py:715: UserWarning: Variables are collinear\n",
      "  warnings.warn(\"Variables are collinear\")\n",
      "/home/wendao/.conda/envs/PyG/lib/python3.8/site-packages/sklearn/discriminant_analysis.py:715: UserWarning: Variables are collinear\n",
      "  warnings.warn(\"Variables are collinear\")\n",
      "/home/wendao/.conda/envs/PyG/lib/python3.8/site-packages/sklearn/discriminant_analysis.py:715: UserWarning: Variables are collinear\n",
      "  warnings.warn(\"Variables are collinear\")\n",
      "/home/wendao/.conda/envs/PyG/lib/python3.8/site-packages/sklearn/discriminant_analysis.py:715: UserWarning: Variables are collinear\n",
      "  warnings.warn(\"Variables are collinear\")\n",
      "/home/wendao/.conda/envs/PyG/lib/python3.8/site-packages/sklearn/discriminant_analysis.py:715: UserWarning: Variables are collinear\n",
      "  warnings.warn(\"Variables are collinear\")\n",
      "/home/wendao/.conda/envs/PyG/lib/python3.8/site-packages/sklearn/discriminant_analysis.py:715: UserWarning: Variables are collinear\n",
      "  warnings.warn(\"Variables are collinear\")\n",
      "/home/wendao/.conda/envs/PyG/lib/python3.8/site-packages/sklearn/discriminant_analysis.py:715: UserWarning: Variables are collinear\n",
      "  warnings.warn(\"Variables are collinear\")\n"
     ]
    }
   ],
   "source": [
    "X = StandardScaler().fit_transform(X)\n",
    "score_train = defaultdict(list)\n",
    "score_test = defaultdict(list)\n",
    "for r in range(10):\n",
    "    classifiers = [\n",
    "        KNeighborsClassifier(3),\n",
    "        SVC(kernel=\"linear\", C=0.025),\n",
    "        SVC(gamma=2, C=1),\n",
    "        GaussianProcessClassifier(1.0 * RBF(1.0)),\n",
    "        DecisionTreeClassifier(max_depth=5),\n",
    "        RandomForestClassifier(max_depth=5, n_estimators=10, max_features=1),\n",
    "        MLPClassifier(alpha=1, max_iter=1000),\n",
    "        AdaBoostClassifier(),\n",
    "        GaussianNB(),\n",
    "        QuadraticDiscriminantAnalysis()]\n",
    "    \n",
    "    X_train, X_test, y_train, y_test = train_test_split(X, y, test_size=0.33, random_state=42+r)\n",
    "    \n",
    "    for name, clf in zip(names, classifiers):\n",
    "        clf.fit(X_train, y_train)\n",
    "        y_pred_train = clf.predict(X_train)\n",
    "        y_pred_test = clf.predict(X_test)\n",
    "        f1_train = f1_score(y_train, y_pred_train)\n",
    "        f1_test = f1_score(y_test, y_pred_test)\n",
    "        score_train[name].append(f1_train)\n",
    "        score_test[name].append(f1_test)"
   ]
  },
  {
   "cell_type": "code",
   "execution_count": 31,
   "metadata": {},
   "outputs": [
    {
     "data": {
      "text/plain": [
       "(array([ 1,  2,  3,  4,  5,  6,  7,  8,  9, 10]),\n",
       " [Text(0, 0, ''),\n",
       "  Text(0, 0, ''),\n",
       "  Text(0, 0, ''),\n",
       "  Text(0, 0, ''),\n",
       "  Text(0, 0, ''),\n",
       "  Text(0, 0, ''),\n",
       "  Text(0, 0, ''),\n",
       "  Text(0, 0, ''),\n",
       "  Text(0, 0, ''),\n",
       "  Text(0, 0, '')])"
      ]
     },
     "execution_count": 31,
     "metadata": {},
     "output_type": "execute_result"
    },
    {
     "data": {
      "image/png": "[encoded data removed]",
      "text/plain": [
       "<Figure size 432x288 with 1 Axes>"
      ]
     },
     "metadata": {
      "needs_background": "light"
     },
     "output_type": "display_data"
    }
   ],
   "source": [
    "ax = plt.boxplot(score_train.values(), labels=names, showmeans=True)\n",
    "plt.xticks(rotation=45)"
   ]
  },
  {
   "cell_type": "code",
   "execution_count": 32,
   "metadata": {},
   "outputs": [
    {
     "data": {
      "text/plain": [
       "(array([ 1,  2,  3,  4,  5,  6,  7,  8,  9, 10]),\n",
       " [Text(0, 0, ''),\n",
       "  Text(0, 0, ''),\n",
       "  Text(0, 0, ''),\n",
       "  Text(0, 0, ''),\n",
       "  Text(0, 0, ''),\n",
       "  Text(0, 0, ''),\n",
       "  Text(0, 0, ''),\n",
       "  Text(0, 0, ''),\n",
       "  Text(0, 0, ''),\n",
       "  Text(0, 0, '')])"
      ]
     },
     "execution_count": 32,
     "metadata": {},
     "output_type": "execute_result"
    },
    {
     "data": {
      "image/png": "[encoded data removed]",
      "text/plain": [
       "<Figure size 432x288 with 1 Axes>"
      ]
     },
     "metadata": {
      "needs_background": "light"
     },
     "output_type": "display_data"
    }
   ],
   "source": [
    "ax = plt.boxplot(score_test.values(), labels=names, showmeans=True)\n",
    "plt.xticks(rotation=45)"
   ]
  },
  {
   "cell_type": "code",
   "execution_count": null,
   "metadata": {},
   "outputs": [],
   "source": []
  }
 ],
 "metadata": {
  "kernelspec": {
   "display_name": "PyG",
   "language": "python",
   "name": "pyg"
  },
  "language_info": {
   "codemirror_mode": {
    "name": "ipython",
    "version": 3
   },
   "file_extension": ".py",
   "mimetype": "text/x-python",
   "name": "python",
   "nbconvert_exporter": "python",
   "pygments_lexer": "ipython3",
   "version": "3.8.5"
  }
 },
 "nbformat": 4,
 "nbformat_minor": 4
}
